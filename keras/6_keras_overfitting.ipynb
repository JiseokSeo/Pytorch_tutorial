{
  "nbformat": 4,
  "nbformat_minor": 0,
  "metadata": {
    "colab": {
      "provenance": []
    },
    "kernelspec": {
      "name": "python3",
      "display_name": "Python 3"
    },
    "language_info": {
      "name": "python"
    },
    "accelerator": "GPU",
    "gpuClass": "standard"
  },
  "cells": [
    {
      "cell_type": "markdown",
      "source": [
        "# 학습목표\n",
        "keras 모델에서 과적합을 방지하기 위한 3가지 방법을 사용한다   \n",
        "1. Weight Decay (가중치 감소)\n",
        "2. Dropout (드롭아웃)\n",
        "3. Early Stopping (조기 종료)\n",
        "\n"
      ],
      "metadata": {
        "id": "1U6Gt4KGLOWP"
      }
    },
    {
      "cell_type": "markdown",
      "source": [
        "### Fashion MNIST 예제 사용 "
      ],
      "metadata": {
        "id": "u-aeGXImMEs-"
      }
    },
    {
      "cell_type": "code",
      "source": [
        "from tensorflow.keras.datasets import fashion_mnist\n",
        "from tensorflow.keras.models import Sequential\n",
        "from tensorflow.keras.layers import Dense, Flatten, Dropout\n",
        "from tensorflow.keras import regularizers\n",
        "\n",
        "import os\n",
        "import numpy as np\n",
        "import tensorflow as tf\n",
        "import keras"
      ],
      "metadata": {
        "id": "7wmx5MQLMD10"
      },
      "execution_count": 10,
      "outputs": []
    },
    {
      "cell_type": "code",
      "source": [
        "(X_train, y_train), (X_test, y_test) = fashion_mnist.load_data()"
      ],
      "metadata": {
        "id": "NpS-Bc4PMKyv"
      },
      "execution_count": 11,
      "outputs": []
    },
    {
      "cell_type": "code",
      "source": [
        "X_train = X_train / 255.\n",
        "X_test = X_test / 255."
      ],
      "metadata": {
        "id": "Xk7rwDjCMMEo"
      },
      "execution_count": 12,
      "outputs": []
    },
    {
      "cell_type": "markdown",
      "source": [
        "베이스라인 모델 "
      ],
      "metadata": {
        "id": "gUPExOwPMPu2"
      }
    },
    {
      "cell_type": "code",
      "source": [
        "model = Sequential([\n",
        "    Flatten(input_shape=(28, 28)),\n",
        "    Dense(64),\n",
        "    Dense(10, activation='softmax')\n",
        "])"
      ],
      "metadata": {
        "id": "qfWoj8cyMRS9"
      },
      "execution_count": 13,
      "outputs": []
    },
    {
      "cell_type": "markdown",
      "source": [
        "### 1. Weight Decay (가중치 감소)\n",
        "\n",
        "가중치가 너무 커지지 않도록 레이어에 가중치 규제항을 추가한다 "
      ],
      "metadata": {
        "id": "m56y54yNLkis"
      }
    },
    {
      "cell_type": "code",
      "execution_count": 14,
      "metadata": {
        "id": "NUIQzmDSLHe-"
      },
      "outputs": [],
      "source": [
        "model = Sequential([\n",
        "    Flatten(input_shape=(28, 28)),\n",
        "    Dense(64,\n",
        "          kernel_regularizer=regularizers.l2(0.01),   # L2 규제항\n",
        "          activity_regularizer=regularizers.l1(0.01)),# L1 규제항 \n",
        "    Dense(10, activation='softmax')\n",
        "])"
      ]
    },
    {
      "cell_type": "markdown",
      "source": [
        "### 2. Dropout (드롭아웃) \n",
        "각 iteration 마다 레이어 노드 중 일부 비율을 사용하지 않도록 만듦  \n",
        "(출력값을 0으로 설정하는 작동원리)"
      ],
      "metadata": {
        "id": "CsaUeb2NLoKT"
      }
    },
    {
      "cell_type": "code",
      "source": [
        "model = Sequential([\n",
        "    Flatten(input_shape=(28, 28)),\n",
        "    Dense(64,\n",
        "          kernel_regularizer=regularizers.l2(0.01),   # L2 규제항\n",
        "          activity_regularizer=regularizers.l1(0.01)),# L1 규제항\n",
        "    Dropout(0.2),  # 20%의 노드에 드롭아웃 적용\n",
        "    Dense(10, activation='softmax')\n",
        "])"
      ],
      "metadata": {
        "id": "fqV2tZcgLq3X"
      },
      "execution_count": 15,
      "outputs": []
    },
    {
      "cell_type": "markdown",
      "source": [
        "### 3. Early Stopping (조기 종료) \n",
        "과적합의 징후: 학습데이터에 대한 손실은 계속 줄어들지만, 검증 데이터에 대한 손실이 증가한다\n",
        "\n",
        "위 과적합 징후가 나타났을 때 학습을 종료하도록 설정하는 방법  "
      ],
      "metadata": {
        "id": "ciRR0_agLsL_"
      }
    },
    {
      "cell_type": "code",
      "source": [
        "# 조기종료 적용을 위한 설정들\n",
        "\n",
        "# 파라미터 저장 경로\n",
        "checkpoint_filepath = 'FMbest.hdf5'\n",
        "\n",
        "# 조기종료 클래스 선언\n",
        "early_stop = keras.callbacks.EarlyStopping(monitor='loss', # 조기종료 적용 기준\n",
        "                                           min_delta=0,\n",
        "                                           patience=10,        # 조기종료 조건\n",
        "                                           verbose=1)\n",
        "\n",
        "# 조기종료시 옵션을 저장하는 클래스 선언\n",
        "save_best = tf.keras.callbacks.ModelCheckpoint(filepath=checkpoint_filepath,\n",
        "                                               monitor='loss',\n",
        "                                               verbose=1,\n",
        "                                               save_best_only=True,\n",
        "                                               save_weights_only=True,\n",
        "                                               mode='auto',\n",
        "                                               save_freq='epoch',\n",
        "                                               options=None)"
      ],
      "metadata": {
        "id": "z4g48owdLuub"
      },
      "execution_count": 16,
      "outputs": []
    },
    {
      "cell_type": "code",
      "source": [
        "# 모델 컴파일\n",
        "model.compile(optimizer=tf.keras.optimizers.Adam(learning_rate=0.001, beta_1 = 0.89)\n",
        "             , loss='sparse_categorical_crossentropy'\n",
        "             , metrics=['accuracy'])"
      ],
      "metadata": {
        "id": "xKHHgLwAPxyT"
      },
      "execution_count": 17,
      "outputs": []
    },
    {
      "cell_type": "code",
      "source": [
        "# callbacks 활성화하여 학습\n",
        "model.fit(X_train, y_train,\n",
        "          batch_size=32,\n",
        "          epochs=30,\n",
        "          verbose=1,\n",
        "          callbacks=[early_stop, save_best])"
      ],
      "metadata": {
        "colab": {
          "base_uri": "https://localhost:8080/"
        },
        "id": "ahlcAv-NPXE3",
        "outputId": "e0ca67df-2a1e-41f0-f66b-184d26220a25"
      },
      "execution_count": 20,
      "outputs": [
        {
          "output_type": "stream",
          "name": "stdout",
          "text": [
            "Epoch 1/30\n",
            "1872/1875 [============================>.] - ETA: 0s - loss: 0.7312 - accuracy: 0.8155\n",
            "Epoch 1: loss did not improve from 0.72678\n",
            "1875/1875 [==============================] - 5s 2ms/step - loss: 0.7311 - accuracy: 0.8155\n",
            "Epoch 2/30\n",
            "1867/1875 [============================>.] - ETA: 0s - loss: 0.7347 - accuracy: 0.8145\n",
            "Epoch 2: loss did not improve from 0.72678\n",
            "1875/1875 [==============================] - 5s 2ms/step - loss: 0.7350 - accuracy: 0.8145\n",
            "Epoch 3/30\n",
            "1865/1875 [============================>.] - ETA: 0s - loss: 0.7236 - accuracy: 0.8157\n",
            "Epoch 3: loss improved from 0.72678 to 0.72377, saving model to FMbest.hdf5\n",
            "1875/1875 [==============================] - 5s 3ms/step - loss: 0.7238 - accuracy: 0.8156\n",
            "Epoch 4/30\n",
            "1857/1875 [============================>.] - ETA: 0s - loss: 0.7270 - accuracy: 0.8135\n",
            "Epoch 4: loss did not improve from 0.72377\n",
            "1875/1875 [==============================] - 5s 3ms/step - loss: 0.7270 - accuracy: 0.8136\n",
            "Epoch 5/30\n",
            "1867/1875 [============================>.] - ETA: 0s - loss: 0.7261 - accuracy: 0.8150\n",
            "Epoch 5: loss did not improve from 0.72377\n",
            "1875/1875 [==============================] - 5s 2ms/step - loss: 0.7267 - accuracy: 0.8149\n",
            "Epoch 6/30\n",
            "1873/1875 [============================>.] - ETA: 0s - loss: 0.7256 - accuracy: 0.8138\n",
            "Epoch 6: loss did not improve from 0.72377\n",
            "1875/1875 [==============================] - 4s 2ms/step - loss: 0.7257 - accuracy: 0.8138\n",
            "Epoch 7/30\n",
            "1859/1875 [============================>.] - ETA: 0s - loss: 0.7212 - accuracy: 0.8140\n",
            "Epoch 7: loss improved from 0.72377 to 0.72132, saving model to FMbest.hdf5\n",
            "1875/1875 [==============================] - 4s 2ms/step - loss: 0.7213 - accuracy: 0.8139\n",
            "Epoch 8/30\n",
            "1854/1875 [============================>.] - ETA: 0s - loss: 0.7214 - accuracy: 0.8150\n",
            "Epoch 8: loss did not improve from 0.72132\n",
            "1875/1875 [==============================] - 4s 2ms/step - loss: 0.7215 - accuracy: 0.8150\n",
            "Epoch 9/30\n",
            "1864/1875 [============================>.] - ETA: 0s - loss: 0.7252 - accuracy: 0.8160\n",
            "Epoch 9: loss did not improve from 0.72132\n",
            "1875/1875 [==============================] - 4s 2ms/step - loss: 0.7261 - accuracy: 0.8156\n",
            "Epoch 10/30\n",
            "1866/1875 [============================>.] - ETA: 0s - loss: 0.7195 - accuracy: 0.8174\n",
            "Epoch 10: loss improved from 0.72132 to 0.71916, saving model to FMbest.hdf5\n",
            "1875/1875 [==============================] - 4s 2ms/step - loss: 0.7192 - accuracy: 0.8176\n",
            "Epoch 11/30\n",
            "1854/1875 [============================>.] - ETA: 0s - loss: 0.7211 - accuracy: 0.8173\n",
            "Epoch 11: loss did not improve from 0.71916\n",
            "1875/1875 [==============================] - 4s 2ms/step - loss: 0.7199 - accuracy: 0.8177\n",
            "Epoch 12/30\n",
            "1857/1875 [============================>.] - ETA: 0s - loss: 0.7208 - accuracy: 0.8156\n",
            "Epoch 12: loss did not improve from 0.71916\n",
            "1875/1875 [==============================] - 4s 2ms/step - loss: 0.7212 - accuracy: 0.8156\n",
            "Epoch 13/30\n",
            "1865/1875 [============================>.] - ETA: 0s - loss: 0.7137 - accuracy: 0.8167\n",
            "Epoch 13: loss improved from 0.71916 to 0.71378, saving model to FMbest.hdf5\n",
            "1875/1875 [==============================] - 4s 2ms/step - loss: 0.7138 - accuracy: 0.8166\n",
            "Epoch 14/30\n",
            "1860/1875 [============================>.] - ETA: 0s - loss: 0.7159 - accuracy: 0.8153\n",
            "Epoch 14: loss did not improve from 0.71378\n",
            "1875/1875 [==============================] - 4s 2ms/step - loss: 0.7157 - accuracy: 0.8155\n",
            "Epoch 15/30\n",
            "1870/1875 [============================>.] - ETA: 0s - loss: 0.7170 - accuracy: 0.8144\n",
            "Epoch 15: loss did not improve from 0.71378\n",
            "1875/1875 [==============================] - 4s 2ms/step - loss: 0.7171 - accuracy: 0.8144\n",
            "Epoch 16/30\n",
            "1865/1875 [============================>.] - ETA: 0s - loss: 0.7177 - accuracy: 0.8165\n",
            "Epoch 16: loss did not improve from 0.71378\n",
            "1875/1875 [==============================] - 4s 2ms/step - loss: 0.7176 - accuracy: 0.8165\n",
            "Epoch 17/30\n",
            "1874/1875 [============================>.] - ETA: 0s - loss: 0.7154 - accuracy: 0.8161\n",
            "Epoch 17: loss did not improve from 0.71378\n",
            "1875/1875 [==============================] - 4s 2ms/step - loss: 0.7154 - accuracy: 0.8161\n",
            "Epoch 18/30\n",
            "1868/1875 [============================>.] - ETA: 0s - loss: 0.7133 - accuracy: 0.8165\n",
            "Epoch 18: loss improved from 0.71378 to 0.71322, saving model to FMbest.hdf5\n",
            "1875/1875 [==============================] - 4s 2ms/step - loss: 0.7132 - accuracy: 0.8165\n",
            "Epoch 19/30\n",
            "1863/1875 [============================>.] - ETA: 0s - loss: 0.7196 - accuracy: 0.8166\n",
            "Epoch 19: loss did not improve from 0.71322\n",
            "1875/1875 [==============================] - 4s 2ms/step - loss: 0.7197 - accuracy: 0.8166\n",
            "Epoch 20/30\n",
            "1874/1875 [============================>.] - ETA: 0s - loss: 0.7074 - accuracy: 0.8178\n",
            "Epoch 20: loss improved from 0.71322 to 0.70752, saving model to FMbest.hdf5\n",
            "1875/1875 [==============================] - 4s 2ms/step - loss: 0.7075 - accuracy: 0.8177\n",
            "Epoch 21/30\n",
            "1866/1875 [============================>.] - ETA: 0s - loss: 0.7171 - accuracy: 0.8166\n",
            "Epoch 21: loss did not improve from 0.70752\n",
            "1875/1875 [==============================] - 4s 2ms/step - loss: 0.7169 - accuracy: 0.8166\n",
            "Epoch 22/30\n",
            "1853/1875 [============================>.] - ETA: 0s - loss: 0.7172 - accuracy: 0.8159\n",
            "Epoch 22: loss did not improve from 0.70752\n",
            "1875/1875 [==============================] - 4s 2ms/step - loss: 0.7173 - accuracy: 0.8159\n",
            "Epoch 23/30\n",
            "1867/1875 [============================>.] - ETA: 0s - loss: 0.7119 - accuracy: 0.8166\n",
            "Epoch 23: loss did not improve from 0.70752\n",
            "1875/1875 [==============================] - 4s 2ms/step - loss: 0.7119 - accuracy: 0.8165\n",
            "Epoch 24/30\n",
            "1868/1875 [============================>.] - ETA: 0s - loss: 0.7132 - accuracy: 0.8178\n",
            "Epoch 24: loss did not improve from 0.70752\n",
            "1875/1875 [==============================] - 5s 2ms/step - loss: 0.7133 - accuracy: 0.8178\n",
            "Epoch 25/30\n",
            "1867/1875 [============================>.] - ETA: 0s - loss: 0.7089 - accuracy: 0.8174\n",
            "Epoch 25: loss did not improve from 0.70752\n",
            "1875/1875 [==============================] - 4s 2ms/step - loss: 0.7090 - accuracy: 0.8174\n",
            "Epoch 26/30\n",
            "1862/1875 [============================>.] - ETA: 0s - loss: 0.7034 - accuracy: 0.8180\n",
            "Epoch 26: loss improved from 0.70752 to 0.70362, saving model to FMbest.hdf5\n",
            "1875/1875 [==============================] - 4s 2ms/step - loss: 0.7036 - accuracy: 0.8178\n",
            "Epoch 27/30\n",
            "1855/1875 [============================>.] - ETA: 0s - loss: 0.7129 - accuracy: 0.8169\n",
            "Epoch 27: loss did not improve from 0.70362\n",
            "1875/1875 [==============================] - 4s 2ms/step - loss: 0.7138 - accuracy: 0.8166\n",
            "Epoch 28/30\n",
            "1860/1875 [============================>.] - ETA: 0s - loss: 0.7038 - accuracy: 0.8184\n",
            "Epoch 28: loss did not improve from 0.70362\n",
            "1875/1875 [==============================] - 5s 2ms/step - loss: 0.7046 - accuracy: 0.8182\n",
            "Epoch 29/30\n",
            "1873/1875 [============================>.] - ETA: 0s - loss: 0.7109 - accuracy: 0.8160\n",
            "Epoch 29: loss did not improve from 0.70362\n",
            "1875/1875 [==============================] - 4s 2ms/step - loss: 0.7107 - accuracy: 0.8161\n",
            "Epoch 30/30\n",
            "1856/1875 [============================>.] - ETA: 0s - loss: 0.7088 - accuracy: 0.8148\n",
            "Epoch 30: loss did not improve from 0.70362\n",
            "1875/1875 [==============================] - 4s 2ms/step - loss: 0.7082 - accuracy: 0.8148\n"
          ]
        },
        {
          "output_type": "execute_result",
          "data": {
            "text/plain": [
              "<keras.callbacks.History at 0x7f3e00075a90>"
            ]
          },
          "metadata": {},
          "execution_count": 20
        }
      ]
    },
    {
      "cell_type": "code",
      "source": [
        "# best_parameter 모델 불러오기\n",
        "model.load_weights(checkpoint_filepath)\n",
        "\n",
        "test_loss, test_acc = model.evaluate(X_test,  y_test, verbose=1)"
      ],
      "metadata": {
        "colab": {
          "base_uri": "https://localhost:8080/"
        },
        "id": "Jhuj1ZmUXjU-",
        "outputId": "dd1177e9-aca3-4034-80b2-a536a054a8db"
      },
      "execution_count": 21,
      "outputs": [
        {
          "output_type": "stream",
          "name": "stdout",
          "text": [
            "313/313 [==============================] - 1s 2ms/step - loss: 0.7673 - accuracy: 0.8036\n"
          ]
        }
      ]
    }
  ]
}