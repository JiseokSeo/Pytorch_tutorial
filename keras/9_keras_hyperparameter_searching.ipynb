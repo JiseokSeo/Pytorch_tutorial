{
  "nbformat": 4,
  "nbformat_minor": 0,
  "metadata": {
    "colab": {
      "provenance": []
    },
    "kernelspec": {
      "name": "python3",
      "display_name": "Python 3"
    },
    "language_info": {
      "name": "python"
    }
  },
  "cells": [
    {
      "cell_type": "markdown",
      "source": [
        "# 학습목표\n",
        "scikeras GridSearch, keras tuner를 사용하여 하이퍼파라미터를 튜닝합니다 "
      ],
      "metadata": {
        "id": "W9zeRXIWcazf"
      }
    },
    {
      "cell_type": "code",
      "source": [
        "from tensorflow import keras\n",
        "from tensorflow.keras.layers import Dense, Flatten\n",
        "\n",
        "import tensorflow as tf\n",
        "import IPython\n",
        "\n",
        "import numpy as np\n",
        "import pandas as pd\n",
        "import tensorflow as tf\n",
        "import os"
      ],
      "metadata": {
        "id": "sNj2rZwKctGb"
      },
      "execution_count": 84,
      "outputs": []
    },
    {
      "cell_type": "markdown",
      "source": [
        "데이터 불러오기 "
      ],
      "metadata": {
        "id": "r1_tazeEcp83"
      }
    },
    {
      "cell_type": "code",
      "execution_count": 85,
      "metadata": {
        "id": "o_CLrqoycSEn"
      },
      "outputs": [],
      "source": [
        "from tensorflow.keras.datasets import boston_housing\n",
        "\n",
        "(X_train, y_train), (X_test, y_test) = boston_housing.load_data()"
      ]
    },
    {
      "cell_type": "markdown",
      "source": [
        "### 베이스라인 모델 "
      ],
      "metadata": {
        "id": "sdwmP6kVc8iW"
      }
    },
    {
      "cell_type": "code",
      "source": [
        "from tensorflow.keras.layers import Dense\n",
        "from tensorflow.keras.models import Sequential\n",
        "\n",
        "model = Sequential()\n",
        "model.add(Dense(64, activation='relu'))\n",
        "model.add(Dense(64, activation='relu'))\n",
        "model.add(Dense(1))"
      ],
      "metadata": {
        "id": "8MQ4_P0Gc9dk"
      },
      "execution_count": 86,
      "outputs": []
    },
    {
      "cell_type": "code",
      "source": [
        "model.compile(loss='mean_squared_error',\n",
        "              optimizer='adam',\n",
        "              metrics=['mse'])"
      ],
      "metadata": {
        "id": "78xHhGyYdQBb"
      },
      "execution_count": 87,
      "outputs": []
    },
    {
      "cell_type": "code",
      "source": [
        "model.fit(X_train, y_train, epochs=10)"
      ],
      "metadata": {
        "colab": {
          "base_uri": "https://localhost:8080/"
        },
        "id": "6Al9E2jBdKoD",
        "outputId": "59165c1d-12c6-40fa-fe12-94b3af2ad222"
      },
      "execution_count": 88,
      "outputs": [
        {
          "output_type": "stream",
          "name": "stdout",
          "text": [
            "Epoch 1/10\n",
            "13/13 [==============================] - 1s 4ms/step - loss: 620.8333 - mse: 620.8333\n",
            "Epoch 2/10\n",
            "13/13 [==============================] - 0s 3ms/step - loss: 161.2493 - mse: 161.2493\n",
            "Epoch 3/10\n",
            "13/13 [==============================] - 0s 5ms/step - loss: 99.9419 - mse: 99.9419\n",
            "Epoch 4/10\n",
            "13/13 [==============================] - 0s 3ms/step - loss: 76.8446 - mse: 76.8446\n",
            "Epoch 5/10\n",
            "13/13 [==============================] - 0s 2ms/step - loss: 65.2172 - mse: 65.2172\n",
            "Epoch 6/10\n",
            "13/13 [==============================] - 0s 3ms/step - loss: 64.3626 - mse: 64.3626\n",
            "Epoch 7/10\n",
            "13/13 [==============================] - 0s 3ms/step - loss: 63.2421 - mse: 63.2421\n",
            "Epoch 8/10\n",
            "13/13 [==============================] - 0s 2ms/step - loss: 59.8862 - mse: 59.8862\n",
            "Epoch 9/10\n",
            "13/13 [==============================] - 0s 2ms/step - loss: 56.1960 - mse: 56.1960\n",
            "Epoch 10/10\n",
            "13/13 [==============================] - 0s 3ms/step - loss: 55.3543 - mse: 55.3543\n"
          ]
        },
        {
          "output_type": "execute_result",
          "data": {
            "text/plain": [
              "<keras.callbacks.History at 0x7f106b169fa0>"
            ]
          },
          "metadata": {},
          "execution_count": 88
        }
      ]
    },
    {
      "cell_type": "code",
      "source": [
        "model.evaluate(X_test, y_test)"
      ],
      "metadata": {
        "colab": {
          "base_uri": "https://localhost:8080/"
        },
        "id": "qplIYYPPdZ5n",
        "outputId": "97efc5fa-6a5c-4bb1-d4f6-b95d0d7b5753"
      },
      "execution_count": 89,
      "outputs": [
        {
          "output_type": "stream",
          "name": "stdout",
          "text": [
            "4/4 [==============================] - 0s 3ms/step - loss: 59.3970 - mse: 59.3970\n"
          ]
        },
        {
          "output_type": "execute_result",
          "data": {
            "text/plain": [
              "[59.39701461791992, 59.39701461791992]"
            ]
          },
          "metadata": {},
          "execution_count": 89
        }
      ]
    },
    {
      "cell_type": "markdown",
      "source": [
        "### GridSearch "
      ],
      "metadata": {
        "id": "C6PzM_vcca5Z"
      }
    },
    {
      "cell_type": "code",
      "source": [
        "!pip install scikeras"
      ],
      "metadata": {
        "colab": {
          "base_uri": "https://localhost:8080/"
        },
        "id": "hU91Q4fEdpv4",
        "outputId": "fcf2d851-bec3-442b-f52f-ab4af3c8ec52"
      },
      "execution_count": 90,
      "outputs": [
        {
          "output_type": "stream",
          "name": "stdout",
          "text": [
            "Looking in indexes: https://pypi.org/simple, https://us-python.pkg.dev/colab-wheels/public/simple/\n",
            "Requirement already satisfied: scikeras in /usr/local/lib/python3.8/dist-packages (0.10.0)\n",
            "Requirement already satisfied: packaging>=0.21 in /usr/local/lib/python3.8/dist-packages (from scikeras) (21.3)\n",
            "Requirement already satisfied: scikit-learn>=1.0.0 in /usr/local/lib/python3.8/dist-packages (from scikeras) (1.0.2)\n",
            "Requirement already satisfied: pyparsing!=3.0.5,>=2.0.2 in /usr/local/lib/python3.8/dist-packages (from packaging>=0.21->scikeras) (3.0.9)\n",
            "Requirement already satisfied: threadpoolctl>=2.0.0 in /usr/local/lib/python3.8/dist-packages (from scikit-learn>=1.0.0->scikeras) (3.1.0)\n",
            "Requirement already satisfied: scipy>=1.1.0 in /usr/local/lib/python3.8/dist-packages (from scikit-learn>=1.0.0->scikeras) (1.7.3)\n",
            "Requirement already satisfied: numpy>=1.14.6 in /usr/local/lib/python3.8/dist-packages (from scikit-learn>=1.0.0->scikeras) (1.21.6)\n",
            "Requirement already satisfied: joblib>=0.11 in /usr/local/lib/python3.8/dist-packages (from scikit-learn>=1.0.0->scikeras) (1.2.0)\n"
          ]
        }
      ]
    },
    {
      "cell_type": "code",
      "source": [
        "import numpy\n",
        "import pandas as pd\n",
        "from sklearn.model_selection import GridSearchCV\n",
        "from tensorflow.keras.models import Sequential\n",
        "from tensorflow.keras.layers import Dense\n",
        "from scikeras.wrappers import KerasRegressor #KerasClassifier"
      ],
      "metadata": {
        "id": "Lj6spa1Kdrco"
      },
      "execution_count": 91,
      "outputs": []
    },
    {
      "cell_type": "markdown",
      "source": [
        "1. 신경망 모델 함수 형태로 정의 "
      ],
      "metadata": {
        "id": "utF_y6ogf0Gz"
      }
    },
    {
      "cell_type": "code",
      "source": [
        "numpy.random.seed(42)"
      ],
      "metadata": {
        "id": "LzatqB7wds6_"
      },
      "execution_count": 92,
      "outputs": []
    },
    {
      "cell_type": "code",
      "source": [
        "# 신경망 모델을 함수 형태로 정의\n",
        "def create_model(node1=8, node2=16):\n",
        "  model = Sequential()\n",
        "  model.add(Dense(node1, input_dim=13, activation='relu'))\n",
        "  model.add(Dense(node2, activation='relu'))\n",
        "  model.add(Dense(4))\n",
        "  model.add(Dense(1, activation='sigmoid'))\n",
        "    \n",
        "  model.compile(loss='mean_squared_error',\n",
        "                optimizer='adam',\n",
        "                metrics=['mse'])\n",
        "  return model"
      ],
      "metadata": {
        "id": "JV204G-kduJv"
      },
      "execution_count": 136,
      "outputs": []
    },
    {
      "cell_type": "markdown",
      "source": [
        "2. wrapping"
      ],
      "metadata": {
        "id": "rhpUY-Bhf5VG"
      }
    },
    {
      "cell_type": "code",
      "source": [
        "# KerasRegressor wrapping\n",
        "model = KerasRegressor(model=create_model, batch_size=8, verbose=False)\n"
      ],
      "metadata": {
        "id": "k00eOH2JeEM9"
      },
      "execution_count": 137,
      "outputs": []
    },
    {
      "cell_type": "markdown",
      "source": [
        "3. GridSearchCV 지정 "
      ],
      "metadata": {
        "id": "9zt7LgUef3mE"
      }
    },
    {
      "cell_type": "code",
      "source": [
        "# 그리드서치 파라미터 지정 \n",
        "param_grid = {'model__node1':[32, 64, 128],\n",
        "              'model__node2':[32, 64, 128],\n",
        "              'batch_size':[8, 32]}"
      ],
      "metadata": {
        "id": "3Y6ASqbseQgA"
      },
      "execution_count": 138,
      "outputs": []
    },
    {
      "cell_type": "code",
      "source": [
        "# 그리드서칭\n",
        "grid = GridSearchCV(estimator=model,\n",
        "                    param_grid=param_grid,\n",
        "                    n_jobs=-1,\n",
        "                    cv=3)\n",
        "\n",
        "grid_result = grid.fit(X_train, y_train)"
      ],
      "metadata": {
        "id": "gtKA4urxgfSm"
      },
      "execution_count": 139,
      "outputs": []
    },
    {
      "cell_type": "code",
      "source": [
        "grid_result"
      ],
      "metadata": {
        "colab": {
          "base_uri": "https://localhost:8080/"
        },
        "id": "gdQU2CRXkUsJ",
        "outputId": "f8ea75ea-dbcb-4213-8c67-6643aaa0a3c1"
      },
      "execution_count": 140,
      "outputs": [
        {
          "output_type": "execute_result",
          "data": {
            "text/plain": [
              "GridSearchCV(cv=3,\n",
              "             estimator=KerasRegressor(batch_size=8, model=<function create_model at 0x7f10710de1f0>, verbose=False),\n",
              "             n_jobs=-1,\n",
              "             param_grid={'batch_size': [8, 32], 'model__node1': [32, 64, 128],\n",
              "                         'model__node2': [32, 64, 128]})"
            ]
          },
          "metadata": {},
          "execution_count": 140
        }
      ]
    },
    {
      "cell_type": "code",
      "source": [
        "grid_result.cv_results_"
      ],
      "metadata": {
        "colab": {
          "base_uri": "https://localhost:8080/"
        },
        "id": "oj2OOKT7pM41",
        "outputId": "cfcbbca0-a7fd-4d16-d1db-3905e0075247"
      },
      "execution_count": 141,
      "outputs": [
        {
          "output_type": "execute_result",
          "data": {
            "text/plain": [
              "{'mean_fit_time': array([1.56436475, 1.01384004, 1.0623308 , 1.0612758 , 1.054691  ,\n",
              "        1.08145714, 1.06683858, 1.00643086, 1.91402992, 0.97491805,\n",
              "        0.97423561, 1.00313616, 1.00371583, 0.96615028, 0.96323029,\n",
              "        0.94526958, 1.41110921, 0.97738942]),\n",
              " 'std_fit_time': array([0.36344821, 0.03141051, 0.01127835, 0.00429932, 0.03736699,\n",
              "        0.01820718, 0.01938543, 0.01909571, 0.63998985, 0.01837159,\n",
              "        0.03687095, 0.01909059, 0.01613216, 0.00911519, 0.025886  ,\n",
              "        0.01777019, 0.34492997, 0.00359496]),\n",
              " 'mean_score_time': array([0.22790647, 0.2144018 , 0.17390744, 0.19746757, 0.21671112,\n",
              "        0.20925458, 0.19540191, 0.22580791, 0.21015898, 0.16125822,\n",
              "        0.20654869, 0.17685668, 0.18050949, 0.16720128, 0.16812833,\n",
              "        0.15944266, 0.1646568 , 0.16024295]),\n",
              " 'std_score_time': array([0.01793753, 0.0120088 , 0.01652318, 0.01294572, 0.02999127,\n",
              "        0.00503334, 0.01687228, 0.01402306, 0.01118692, 0.00256524,\n",
              "        0.00834462, 0.01291483, 0.02174033, 0.0041971 , 0.00641805,\n",
              "        0.00529953, 0.0028605 , 0.01248956]),\n",
              " 'param_batch_size': masked_array(data=[8, 8, 8, 8, 8, 8, 8, 8, 8, 32, 32, 32, 32, 32, 32, 32,\n",
              "                    32, 32],\n",
              "              mask=[False, False, False, False, False, False, False, False,\n",
              "                    False, False, False, False, False, False, False, False,\n",
              "                    False, False],\n",
              "        fill_value='?',\n",
              "             dtype=object),\n",
              " 'param_model__node1': masked_array(data=[32, 32, 32, 64, 64, 64, 128, 128, 128, 32, 32, 32, 64,\n",
              "                    64, 64, 128, 128, 128],\n",
              "              mask=[False, False, False, False, False, False, False, False,\n",
              "                    False, False, False, False, False, False, False, False,\n",
              "                    False, False],\n",
              "        fill_value='?',\n",
              "             dtype=object),\n",
              " 'param_model__node2': masked_array(data=[32, 64, 128, 32, 64, 128, 32, 64, 128, 32, 64, 128, 32,\n",
              "                    64, 128, 32, 64, 128],\n",
              "              mask=[False, False, False, False, False, False, False, False,\n",
              "                    False, False, False, False, False, False, False, False,\n",
              "                    False, False],\n",
              "        fill_value='?',\n",
              "             dtype=object),\n",
              " 'params': [{'batch_size': 8, 'model__node1': 32, 'model__node2': 32},\n",
              "  {'batch_size': 8, 'model__node1': 32, 'model__node2': 64},\n",
              "  {'batch_size': 8, 'model__node1': 32, 'model__node2': 128},\n",
              "  {'batch_size': 8, 'model__node1': 64, 'model__node2': 32},\n",
              "  {'batch_size': 8, 'model__node1': 64, 'model__node2': 64},\n",
              "  {'batch_size': 8, 'model__node1': 64, 'model__node2': 128},\n",
              "  {'batch_size': 8, 'model__node1': 128, 'model__node2': 32},\n",
              "  {'batch_size': 8, 'model__node1': 128, 'model__node2': 64},\n",
              "  {'batch_size': 8, 'model__node1': 128, 'model__node2': 128},\n",
              "  {'batch_size': 32, 'model__node1': 32, 'model__node2': 32},\n",
              "  {'batch_size': 32, 'model__node1': 32, 'model__node2': 64},\n",
              "  {'batch_size': 32, 'model__node1': 32, 'model__node2': 128},\n",
              "  {'batch_size': 32, 'model__node1': 64, 'model__node2': 32},\n",
              "  {'batch_size': 32, 'model__node1': 64, 'model__node2': 64},\n",
              "  {'batch_size': 32, 'model__node1': 64, 'model__node2': 128},\n",
              "  {'batch_size': 32, 'model__node1': 128, 'model__node2': 32},\n",
              "  {'batch_size': 32, 'model__node1': 128, 'model__node2': 64},\n",
              "  {'batch_size': 32, 'model__node1': 128, 'model__node2': 128}],\n",
              " 'split0_test_score': array([-5.20459623, -4.74759995, -4.74759995, -5.20459623, -4.74759995,\n",
              "        -4.74759995, -5.20459623, -4.74759995, -4.74759995, -4.74759995,\n",
              "        -4.74759995, -4.74759995, -5.20459623, -4.74759995, -4.77557657,\n",
              "        -4.74759995, -5.20459623, -4.74759995]),\n",
              " 'split1_test_score': array([-7.13701006, -7.84981185, -7.13701006, -7.13701008, -7.13701006,\n",
              "        -7.13701006, -7.13701006, -7.84981185, -7.13701006, -7.13701006,\n",
              "        -7.13701006, -7.84981185, -7.13701006, -7.13701006, -7.84981185,\n",
              "        -7.13701006, -7.13701006, -7.13701006]),\n",
              " 'split2_test_score': array([-5.13004291, -5.59801978, -5.13004291, -5.13004291, -5.13004291,\n",
              "        -5.13004291, -5.13004291, -5.13004291, -5.13004291, -5.13004291,\n",
              "        -5.13004291, -5.13004291, -5.59801978, -5.13004291, -5.13004291,\n",
              "        -5.59801978, -5.13004291, -5.13004291]),\n",
              " 'mean_test_score': array([-5.82388307, -6.06514386, -5.67155097, -5.82388307, -5.67155097,\n",
              "        -5.67155097, -5.82388307, -5.90915157, -5.67155097, -5.67155097,\n",
              "        -5.67155097, -5.90915157, -5.97987536, -5.67155097, -5.91847711,\n",
              "        -5.82754327, -5.82388307, -5.67155097]),\n",
              " 'std_test_score': array([0.92901971, 1.30883749, 1.04793238, 0.92901972, 1.04793238,\n",
              "        1.04793238, 0.92901971, 1.38110762, 1.04793238, 1.04793238,\n",
              "        1.04793238, 1.38110762, 0.83383294, 1.04793238, 1.3733055 ,\n",
              "        0.98888184, 0.92901971, 1.04793238]),\n",
              " 'rank_test_score': array([ 9, 18,  1, 12,  1,  1, 10, 14,  1,  1,  1, 14, 17,  1, 16, 13, 10,\n",
              "         1], dtype=int32)}"
            ]
          },
          "metadata": {},
          "execution_count": 141
        }
      ]
    },
    {
      "cell_type": "code",
      "source": [
        "grid_result.best_score_"
      ],
      "metadata": {
        "colab": {
          "base_uri": "https://localhost:8080/"
        },
        "id": "lyJF4RHEpixl",
        "outputId": "a826ce40-e987-482f-bf44-3b1f7451e201"
      },
      "execution_count": 142,
      "outputs": [
        {
          "output_type": "execute_result",
          "data": {
            "text/plain": [
              "-5.6715509726833275"
            ]
          },
          "metadata": {},
          "execution_count": 142
        }
      ]
    },
    {
      "cell_type": "code",
      "source": [
        "grid_result.best_params_"
      ],
      "metadata": {
        "colab": {
          "base_uri": "https://localhost:8080/"
        },
        "id": "Gfjk_FSOpSAD",
        "outputId": "97331a71-7f10-44f3-ba89-7695c48cb154"
      },
      "execution_count": 143,
      "outputs": [
        {
          "output_type": "execute_result",
          "data": {
            "text/plain": [
              "{'batch_size': 8, 'model__node1': 32, 'model__node2': 128}"
            ]
          },
          "metadata": {},
          "execution_count": 143
        }
      ]
    },
    {
      "cell_type": "code",
      "source": [],
      "metadata": {
        "id": "dInDwCRSpm0U"
      },
      "execution_count": null,
      "outputs": []
    },
    {
      "cell_type": "markdown",
      "source": [
        "### Keras Tuner "
      ],
      "metadata": {
        "id": "RmOTI92zpqkO"
      }
    },
    {
      "cell_type": "code",
      "source": [
        "from tensorflow import keras\n",
        "from tensorflow.keras.layers import Dense, Flatten\n",
        "\n",
        "import tensorflow as tf\n",
        "import IPython"
      ],
      "metadata": {
        "id": "srtuir9dpy2s"
      },
      "execution_count": 106,
      "outputs": []
    },
    {
      "cell_type": "code",
      "source": [
        "!pip install -U keras-tuner\n",
        "import keras_tuner as kt"
      ],
      "metadata": {
        "colab": {
          "base_uri": "https://localhost:8080/"
        },
        "id": "WWEm_KBmp1FN",
        "outputId": "d7b7b857-9b73-44c9-a959-93b643156bce"
      },
      "execution_count": 107,
      "outputs": [
        {
          "output_type": "stream",
          "name": "stdout",
          "text": [
            "Looking in indexes: https://pypi.org/simple, https://us-python.pkg.dev/colab-wheels/public/simple/\n",
            "Collecting keras-tuner\n",
            "  Downloading keras_tuner-1.1.3-py3-none-any.whl (135 kB)\n",
            "\u001b[2K     \u001b[90m━━━━━━━━━━━━━━━━━━━━━━━━━━━━━━━━━━━━━━━\u001b[0m \u001b[32m135.7/135.7 KB\u001b[0m \u001b[31m4.0 MB/s\u001b[0m eta \u001b[36m0:00:00\u001b[0m\n",
            "\u001b[?25hRequirement already satisfied: ipython in /usr/local/lib/python3.8/dist-packages (from keras-tuner) (7.9.0)\n",
            "Collecting kt-legacy\n",
            "  Downloading kt_legacy-1.0.4-py3-none-any.whl (9.6 kB)\n",
            "Requirement already satisfied: packaging in /usr/local/lib/python3.8/dist-packages (from keras-tuner) (21.3)\n",
            "Requirement already satisfied: numpy in /usr/local/lib/python3.8/dist-packages (from keras-tuner) (1.21.6)\n",
            "Requirement already satisfied: requests in /usr/local/lib/python3.8/dist-packages (from keras-tuner) (2.25.1)\n",
            "Requirement already satisfied: tensorboard in /usr/local/lib/python3.8/dist-packages (from keras-tuner) (2.9.1)\n",
            "Requirement already satisfied: pexpect in /usr/local/lib/python3.8/dist-packages (from ipython->keras-tuner) (4.8.0)\n",
            "Requirement already satisfied: backcall in /usr/local/lib/python3.8/dist-packages (from ipython->keras-tuner) (0.2.0)\n",
            "Requirement already satisfied: traitlets>=4.2 in /usr/local/lib/python3.8/dist-packages (from ipython->keras-tuner) (5.7.1)\n",
            "Collecting jedi>=0.10\n",
            "  Downloading jedi-0.18.2-py2.py3-none-any.whl (1.6 MB)\n",
            "\u001b[2K     \u001b[90m━━━━━━━━━━━━━━━━━━━━━━━━━━━━━━━━━━━━━━━━\u001b[0m \u001b[32m1.6/1.6 MB\u001b[0m \u001b[31m29.1 MB/s\u001b[0m eta \u001b[36m0:00:00\u001b[0m\n",
            "\u001b[?25hRequirement already satisfied: decorator in /usr/local/lib/python3.8/dist-packages (from ipython->keras-tuner) (4.4.2)\n",
            "Requirement already satisfied: pickleshare in /usr/local/lib/python3.8/dist-packages (from ipython->keras-tuner) (0.7.5)\n",
            "Requirement already satisfied: setuptools>=18.5 in /usr/local/lib/python3.8/dist-packages (from ipython->keras-tuner) (57.4.0)\n",
            "Requirement already satisfied: pygments in /usr/local/lib/python3.8/dist-packages (from ipython->keras-tuner) (2.6.1)\n",
            "Requirement already satisfied: prompt-toolkit<2.1.0,>=2.0.0 in /usr/local/lib/python3.8/dist-packages (from ipython->keras-tuner) (2.0.10)\n",
            "Requirement already satisfied: pyparsing!=3.0.5,>=2.0.2 in /usr/local/lib/python3.8/dist-packages (from packaging->keras-tuner) (3.0.9)\n",
            "Requirement already satisfied: certifi>=2017.4.17 in /usr/local/lib/python3.8/dist-packages (from requests->keras-tuner) (2022.12.7)\n",
            "Requirement already satisfied: chardet<5,>=3.0.2 in /usr/local/lib/python3.8/dist-packages (from requests->keras-tuner) (4.0.0)\n",
            "Requirement already satisfied: idna<3,>=2.5 in /usr/local/lib/python3.8/dist-packages (from requests->keras-tuner) (2.10)\n",
            "Requirement already satisfied: urllib3<1.27,>=1.21.1 in /usr/local/lib/python3.8/dist-packages (from requests->keras-tuner) (1.24.3)\n",
            "Requirement already satisfied: protobuf<3.20,>=3.9.2 in /usr/local/lib/python3.8/dist-packages (from tensorboard->keras-tuner) (3.19.6)\n",
            "Requirement already satisfied: wheel>=0.26 in /usr/local/lib/python3.8/dist-packages (from tensorboard->keras-tuner) (0.38.4)\n",
            "Requirement already satisfied: tensorboard-plugin-wit>=1.6.0 in /usr/local/lib/python3.8/dist-packages (from tensorboard->keras-tuner) (1.8.1)\n",
            "Requirement already satisfied: grpcio>=1.24.3 in /usr/local/lib/python3.8/dist-packages (from tensorboard->keras-tuner) (1.51.1)\n",
            "Requirement already satisfied: markdown>=2.6.8 in /usr/local/lib/python3.8/dist-packages (from tensorboard->keras-tuner) (3.4.1)\n",
            "Requirement already satisfied: tensorboard-data-server<0.7.0,>=0.6.0 in /usr/local/lib/python3.8/dist-packages (from tensorboard->keras-tuner) (0.6.1)\n",
            "Requirement already satisfied: google-auth-oauthlib<0.5,>=0.4.1 in /usr/local/lib/python3.8/dist-packages (from tensorboard->keras-tuner) (0.4.6)\n",
            "Requirement already satisfied: google-auth<3,>=1.6.3 in /usr/local/lib/python3.8/dist-packages (from tensorboard->keras-tuner) (2.15.0)\n",
            "Requirement already satisfied: werkzeug>=1.0.1 in /usr/local/lib/python3.8/dist-packages (from tensorboard->keras-tuner) (1.0.1)\n",
            "Requirement already satisfied: absl-py>=0.4 in /usr/local/lib/python3.8/dist-packages (from tensorboard->keras-tuner) (1.3.0)\n",
            "Requirement already satisfied: six>=1.9.0 in /usr/local/lib/python3.8/dist-packages (from google-auth<3,>=1.6.3->tensorboard->keras-tuner) (1.15.0)\n",
            "Requirement already satisfied: cachetools<6.0,>=2.0.0 in /usr/local/lib/python3.8/dist-packages (from google-auth<3,>=1.6.3->tensorboard->keras-tuner) (5.2.0)\n",
            "Requirement already satisfied: pyasn1-modules>=0.2.1 in /usr/local/lib/python3.8/dist-packages (from google-auth<3,>=1.6.3->tensorboard->keras-tuner) (0.2.8)\n",
            "Requirement already satisfied: rsa<5,>=3.1.4 in /usr/local/lib/python3.8/dist-packages (from google-auth<3,>=1.6.3->tensorboard->keras-tuner) (4.9)\n",
            "Requirement already satisfied: requests-oauthlib>=0.7.0 in /usr/local/lib/python3.8/dist-packages (from google-auth-oauthlib<0.5,>=0.4.1->tensorboard->keras-tuner) (1.3.1)\n",
            "Requirement already satisfied: parso<0.9.0,>=0.8.0 in /usr/local/lib/python3.8/dist-packages (from jedi>=0.10->ipython->keras-tuner) (0.8.3)\n",
            "Requirement already satisfied: importlib-metadata>=4.4 in /usr/local/lib/python3.8/dist-packages (from markdown>=2.6.8->tensorboard->keras-tuner) (6.0.0)\n",
            "Requirement already satisfied: wcwidth in /usr/local/lib/python3.8/dist-packages (from prompt-toolkit<2.1.0,>=2.0.0->ipython->keras-tuner) (0.2.5)\n",
            "Requirement already satisfied: ptyprocess>=0.5 in /usr/local/lib/python3.8/dist-packages (from pexpect->ipython->keras-tuner) (0.7.0)\n",
            "Requirement already satisfied: zipp>=0.5 in /usr/local/lib/python3.8/dist-packages (from importlib-metadata>=4.4->markdown>=2.6.8->tensorboard->keras-tuner) (3.11.0)\n",
            "Requirement already satisfied: pyasn1<0.5.0,>=0.4.6 in /usr/local/lib/python3.8/dist-packages (from pyasn1-modules>=0.2.1->google-auth<3,>=1.6.3->tensorboard->keras-tuner) (0.4.8)\n",
            "Requirement already satisfied: oauthlib>=3.0.0 in /usr/local/lib/python3.8/dist-packages (from requests-oauthlib>=0.7.0->google-auth-oauthlib<0.5,>=0.4.1->tensorboard->keras-tuner) (3.2.2)\n",
            "Installing collected packages: kt-legacy, jedi, keras-tuner\n",
            "Successfully installed jedi-0.18.2 keras-tuner-1.1.3 kt-legacy-1.0.4\n"
          ]
        }
      ]
    },
    {
      "cell_type": "markdown",
      "source": [
        "1. 신경망 모델 함수 형태로 정의 "
      ],
      "metadata": {
        "id": "KZ0m0WfHu1pv"
      }
    },
    {
      "cell_type": "code",
      "source": [
        "def model_builder(hp):\n",
        "  model = Sequential()\n",
        "\n",
        "  hp_unit = hp.Choice('units', [32, 64, 128])\n",
        "  model.add(Dense(units=hp_unit, input_dim=13, activation='relu'))\n",
        "  model.add(Dense(units=hp_unit, activation='relu'))\n",
        "  model.add(Dense(1, activation='sigmoid'))\n",
        "    \n",
        "  hp_lr = hp.Choice('learning_rate', values = [0.01, 0.05, 0.1])\n",
        "  model.compile(loss='mean_squared_error',\n",
        "              optimizer=keras.optimizers.Adam(learning_rate = hp_lr),\n",
        "              metrics=['mse'])\n",
        "  return model"
      ],
      "metadata": {
        "id": "hjEcbv3Kp2oY"
      },
      "execution_count": 126,
      "outputs": []
    },
    {
      "cell_type": "markdown",
      "source": [
        "2. tuner 정의"
      ],
      "metadata": {
        "id": "AXnext6vvnjE"
      }
    },
    {
      "cell_type": "code",
      "source": [
        "tuner = kt.Hyperband(model_builder,\n",
        "                     objective = 'mse', \n",
        "                     max_epochs = 10,\n",
        "                     factor = 3,\n",
        "                     project_name = 'intro_to_kt')   "
      ],
      "metadata": {
        "id": "UpKk60Ihvqp4"
      },
      "execution_count": 127,
      "outputs": []
    },
    {
      "cell_type": "markdown",
      "source": [
        "3. 콜백 지정\n",
        "하이퍼파라미터 학습 실행 전, 이전 학습 출력을 제거하는 콜백 함수 "
      ],
      "metadata": {
        "id": "kvOq6i6FwEys"
      }
    },
    {
      "cell_type": "code",
      "source": [
        "class ClearTrainingOutput(tf.keras.callbacks.Callback):\n",
        "  def on_train_end(*args, **kwargs):\n",
        "    IPython.display.clear_output(wait = True)"
      ],
      "metadata": {
        "id": "5J6eUndqwIt3"
      },
      "execution_count": 128,
      "outputs": []
    },
    {
      "cell_type": "markdown",
      "source": [
        "4. keras tuner 서칭 시작 "
      ],
      "metadata": {
        "id": "LMEg79ATwaE3"
      }
    },
    {
      "cell_type": "code",
      "source": [
        "tuner.search(X_train, y_train,\n",
        "             epochs = 10,\n",
        "             validation_data = (X_test, y_test),\n",
        "             callbacks = [ClearTrainingOutput()])"
      ],
      "metadata": {
        "id": "gCyi3MzfwJNo"
      },
      "execution_count": 129,
      "outputs": []
    },
    {
      "cell_type": "code",
      "source": [
        "best_hps = tuner.get_best_hyperparameters(num_trials = 1)[0]"
      ],
      "metadata": {
        "id": "AfYIYjfowfa7"
      },
      "execution_count": 130,
      "outputs": []
    },
    {
      "cell_type": "code",
      "source": [
        "best_hps"
      ],
      "metadata": {
        "colab": {
          "base_uri": "https://localhost:8080/"
        },
        "id": "hgC3uYY_wnQR",
        "outputId": "43d0e2f1-f157-461a-e09c-a30f50edbcb9"
      },
      "execution_count": 131,
      "outputs": [
        {
          "output_type": "execute_result",
          "data": {
            "text/plain": [
              "<keras_tuner.engine.hyperparameters.HyperParameters at 0x7f107081b2b0>"
            ]
          },
          "metadata": {},
          "execution_count": 131
        }
      ]
    },
    {
      "cell_type": "code",
      "source": [
        "best_hps.get('units')"
      ],
      "metadata": {
        "colab": {
          "base_uri": "https://localhost:8080/"
        },
        "id": "PEpcJLuGwoDJ",
        "outputId": "0a37591a-e1b1-4226-f7ac-4048f08fcadc"
      },
      "execution_count": 132,
      "outputs": [
        {
          "output_type": "execute_result",
          "data": {
            "text/plain": [
              "32"
            ]
          },
          "metadata": {},
          "execution_count": 132
        }
      ]
    },
    {
      "cell_type": "code",
      "source": [
        "best_hps.get('learning_rate')"
      ],
      "metadata": {
        "colab": {
          "base_uri": "https://localhost:8080/"
        },
        "id": "nZlSs6IUwqmB",
        "outputId": "4a06bd47-5687-44f6-956a-a862080ec380"
      },
      "execution_count": 133,
      "outputs": [
        {
          "output_type": "execute_result",
          "data": {
            "text/plain": [
              "0.05"
            ]
          },
          "metadata": {},
          "execution_count": 133
        }
      ]
    },
    {
      "cell_type": "markdown",
      "source": [
        "5. 최고 성능 모델 확인 "
      ],
      "metadata": {
        "id": "oSzMdu_Lwyqt"
      }
    },
    {
      "cell_type": "code",
      "source": [
        "model = tuner.hypermodel.build(best_hps)\n",
        "model.summary()"
      ],
      "metadata": {
        "colab": {
          "base_uri": "https://localhost:8080/"
        },
        "id": "xlqj7TsYw05u",
        "outputId": "4f94734d-a184-402b-e097-427dce2ddffc"
      },
      "execution_count": 134,
      "outputs": [
        {
          "output_type": "stream",
          "name": "stdout",
          "text": [
            "Model: \"sequential_4\"\n",
            "_________________________________________________________________\n",
            " Layer (type)                Output Shape              Param #   \n",
            "=================================================================\n",
            " dense_12 (Dense)            (None, 32)                448       \n",
            "                                                                 \n",
            " dense_13 (Dense)            (None, 32)                1056      \n",
            "                                                                 \n",
            " dense_14 (Dense)            (None, 1)                 33        \n",
            "                                                                 \n",
            "=================================================================\n",
            "Total params: 1,537\n",
            "Trainable params: 1,537\n",
            "Non-trainable params: 0\n",
            "_________________________________________________________________\n"
          ]
        }
      ]
    },
    {
      "cell_type": "code",
      "source": [
        "model.fit(X_train, y_train,\n",
        "          epochs=10)\n",
        "model.evaluate(X_test, y_test)"
      ],
      "metadata": {
        "colab": {
          "base_uri": "https://localhost:8080/"
        },
        "id": "Iy6Uynf2w3FC",
        "outputId": "2f8e8ef1-38af-45b7-9a27-767877051799"
      },
      "execution_count": 135,
      "outputs": [
        {
          "output_type": "stream",
          "name": "stdout",
          "text": [
            "Epoch 1/10\n",
            "13/13 [==============================] - 0s 3ms/step - loss: 586.1605 - mse: 586.1605\n",
            "Epoch 2/10\n",
            "13/13 [==============================] - 0s 3ms/step - loss: 586.1605 - mse: 586.1605\n",
            "Epoch 3/10\n",
            "13/13 [==============================] - 0s 3ms/step - loss: 586.1605 - mse: 586.1605\n",
            "Epoch 4/10\n",
            "13/13 [==============================] - 0s 3ms/step - loss: 586.1605 - mse: 586.1605\n",
            "Epoch 5/10\n",
            "13/13 [==============================] - 0s 3ms/step - loss: 586.1605 - mse: 586.1605\n",
            "Epoch 6/10\n",
            "13/13 [==============================] - 0s 2ms/step - loss: 586.1605 - mse: 586.1605\n",
            "Epoch 7/10\n",
            "13/13 [==============================] - 0s 3ms/step - loss: 586.1605 - mse: 586.1605\n",
            "Epoch 8/10\n",
            "13/13 [==============================] - 0s 3ms/step - loss: 586.1605 - mse: 586.1605\n",
            "Epoch 9/10\n",
            "13/13 [==============================] - 0s 3ms/step - loss: 586.1605 - mse: 586.1605\n",
            "Epoch 10/10\n",
            "13/13 [==============================] - 0s 3ms/step - loss: 586.1605 - mse: 586.1605\n",
            "4/4 [==============================] - 0s 4ms/step - loss: 615.8578 - mse: 615.8578\n"
          ]
        },
        {
          "output_type": "execute_result",
          "data": {
            "text/plain": [
              "[615.8577880859375, 615.8577880859375]"
            ]
          },
          "metadata": {},
          "execution_count": 135
        }
      ]
    },
    {
      "cell_type": "code",
      "source": [],
      "metadata": {
        "id": "MZ_zgh0zxApd"
      },
      "execution_count": null,
      "outputs": []
    }
  ]
}