{
  "nbformat": 4,
  "nbformat_minor": 0,
  "metadata": {
    "colab": {
      "provenance": []
    },
    "kernelspec": {
      "name": "python3",
      "display_name": "Python 3"
    },
    "language_info": {
      "name": "python"
    }
  },
  "cells": [
    {
      "cell_type": "markdown",
      "source": [
        "# 학습목표\n",
        "Cross Validation을 적용하여 Boston housing 문제를 풀 수 있습니다 "
      ],
      "metadata": {
        "id": "G01glJLU6ymq"
      }
    },
    {
      "cell_type": "code",
      "source": [
        "from tensorflow.keras.preprocessing.image import ImageDataGenerator\n",
        "from tensorflow.keras.models import Sequential\n",
        "from tensorflow.keras.layers import Dense\n",
        "\n",
        "import numpy as np\n",
        "import pandas as pd\n",
        "import tensorflow as tf\n",
        "import os"
      ],
      "metadata": {
        "id": "iSbtgg2GDxdx"
      },
      "execution_count": 57,
      "outputs": []
    },
    {
      "cell_type": "markdown",
      "source": [
        "### 데이터 불러오기 "
      ],
      "metadata": {
        "id": "l_gLmSJa7GMA"
      }
    },
    {
      "cell_type": "code",
      "source": [
        "from tensorflow.keras.datasets import boston_housing\n",
        "\n",
        "(X_train, y_train), (X_test, y_test) = boston_housing.load_data()"
      ],
      "metadata": {
        "id": "ZoQUfkO37IIl"
      },
      "execution_count": 58,
      "outputs": []
    },
    {
      "cell_type": "code",
      "source": [
        "X_train.shape"
      ],
      "metadata": {
        "colab": {
          "base_uri": "https://localhost:8080/"
        },
        "id": "HwOX9sD3HQV8",
        "outputId": "44d19b09-be00-4c47-bd11-27ee8f8a2bdf"
      },
      "execution_count": 59,
      "outputs": [
        {
          "output_type": "execute_result",
          "data": {
            "text/plain": [
              "(404, 13)"
            ]
          },
          "metadata": {},
          "execution_count": 59
        }
      ]
    },
    {
      "cell_type": "markdown",
      "source": [
        "### 베이스라인 모델\n"
      ],
      "metadata": {
        "id": "2w3pP3WxD1Bj"
      }
    },
    {
      "cell_type": "code",
      "source": [
        "model = Sequential([\n",
        "    Dense(64),\n",
        "    Dense(10, activation='softmax')\n",
        "])"
      ],
      "metadata": {
        "id": "4P5Q9AEsEKi5"
      },
      "execution_count": 60,
      "outputs": []
    },
    {
      "cell_type": "code",
      "source": [
        "model.compile(optimizer='adam',\n",
        "              loss='mean_squared_logarithmic_error',\n",
        "              metrics=['mse'])"
      ],
      "metadata": {
        "id": "CTfqETXREbUd"
      },
      "execution_count": 61,
      "outputs": []
    },
    {
      "cell_type": "markdown",
      "source": [
        "### 교차검증 (cross validation) \n",
        "메커니즘 구현 "
      ],
      "metadata": {
        "id": "2vNYCoKm7AoZ"
      }
    },
    {
      "cell_type": "code",
      "source": [
        "k = 4\n",
        "num_val_samples = len(X_train) // k\n",
        "epochs = 100\n",
        "scores = []\n",
        "\n",
        "for i in range(k):\n",
        "  print(f'{i+1}번째 폴드 처리 중\\n')\n",
        "\n",
        "  # 검증 데이터 나누기기\n",
        "  val_dataset = X_train[i * num_val_samples: (i+1) * num_val_samples]\n",
        "  val_target = y_train[i * num_val_samples: (i+1) * num_val_samples]\n",
        "\n",
        "  # 나머지 데이터를 학습 데이터로 사용\n",
        "  train_dataset = np.concatenate([X_train[:i * num_val_samples],\n",
        "                                 X_train[(i+1) * num_val_samples:]],\n",
        "                                 axis=0)\n",
        "  train_target = np.concatenate([y_train[:i * num_val_samples],\n",
        "                                 y_train[(i+1) * num_val_samples:]],\n",
        "                                axis=0)\n",
        "\n",
        "  # 학습\n",
        "  model.fit(train_dataset, train_target)\n",
        "\n",
        "  # 검증 및 결과 저장\n",
        "  mse = model.evaluate(val_dataset, val_target, verbose=1)\n",
        "  scores.append(mse[1])\n",
        "\n",
        "scores, f'평균: {sum(scores) / len(scores)}'"
      ],
      "metadata": {
        "colab": {
          "base_uri": "https://localhost:8080/"
        },
        "id": "EvDt5pWF9fzV",
        "outputId": "3ab1da13-6388-45f9-98ce-0c2c88decffa"
      },
      "execution_count": 62,
      "outputs": [
        {
          "output_type": "stream",
          "name": "stdout",
          "text": [
            "1번째 폴드 처리 중\n",
            "\n",
            "10/10 [==============================] - 0s 3ms/step - loss: 9.3173 - mse: 585.8020\n",
            "4/4 [==============================] - 0s 3ms/step - loss: 9.0707 - mse: 569.7199\n",
            "2번째 폴드 처리 중\n",
            "\n",
            "10/10 [==============================] - 0s 2ms/step - loss: 9.2787 - mse: 591.6058\n",
            "4/4 [==============================] - 0s 3ms/step - loss: 9.1865 - mse: 552.3084\n",
            "3번째 폴드 처리 중\n",
            "\n",
            "10/10 [==============================] - 0s 2ms/step - loss: 9.3281 - mse: 602.6412\n",
            "4/4 [==============================] - 0s 2ms/step - loss: 9.0383 - mse: 519.2024\n",
            "4번째 폴드 처리 중\n",
            "\n",
            "10/10 [==============================] - 0s 2ms/step - loss: 9.0985 - mse: 547.0770\n",
            "4/4 [==============================] - 0s 3ms/step - loss: 9.7272 - mse: 685.8953\n"
          ]
        },
        {
          "output_type": "execute_result",
          "data": {
            "text/plain": [
              "([569.7199096679688, 552.3084106445312, 519.202392578125, 685.895263671875],\n",
              " '평균: 581.781494140625')"
            ]
          },
          "metadata": {},
          "execution_count": 62
        }
      ]
    },
    {
      "cell_type": "code",
      "source": [
        "# kfold 라이브러리 사용 \n",
        "# 교차검증 클래스 선언\n",
        "from sklearn.model_selection import KFold, StratifiedKFold\n",
        "\n",
        "kf = KFold(n_splits = 5) # 데이터셋을 몇 개로 나눌지 지정\n",
        "skf = StratifiedKFold(n_splits = 5,     # 타겟 분포를 반영한 fold\n",
        "                      random_state = 42,\n",
        "                      shuffle = True) \n",
        "\n",
        "scores_fold = []\n",
        "\n",
        "for train_idx, test_idx in kf.split(X_train, y_train):\n",
        "  train_dataset = X_train[train_idx]\n",
        "  train_target = y_train[train_idx]\n",
        "\n",
        "  valid_dataset = X_train[test_idx]\n",
        "  valid_target = y_train[test_idx]\n",
        "\n",
        "  model.fit(train_dataset, train_target)\n",
        "  mse = model.evaluate(valid_dataset, valid_target, verbose=1)\n",
        "\n",
        "  scores_fold.append(mse[1])\n"
      ],
      "metadata": {
        "colab": {
          "base_uri": "https://localhost:8080/"
        },
        "id": "4nYDSwlz7SYf",
        "outputId": "d19bd6ba-44c0-4a85-e7e3-12cbb28a2523"
      },
      "execution_count": 63,
      "outputs": [
        {
          "output_type": "stream",
          "name": "stdout",
          "text": [
            "11/11 [==============================] - 0s 2ms/step - loss: 9.4072 - mse: 609.1820\n",
            "3/3 [==============================] - 0s 3ms/step - loss: 8.6514 - mse: 472.5178\n",
            "11/11 [==============================] - 0s 2ms/step - loss: 9.1810 - mse: 562.0404\n",
            "3/3 [==============================] - 0s 3ms/step - loss: 9.5534 - mse: 660.5021\n",
            "11/11 [==============================] - 0s 2ms/step - loss: 9.2671 - mse: 595.7838\n",
            "3/3 [==============================] - 0s 4ms/step - loss: 9.2100 - mse: 525.9453\n",
            "11/11 [==============================] - 0s 2ms/step - loss: 9.2556 - mse: 574.9456\n",
            "3/3 [==============================] - 0s 4ms/step - loss: 9.2561 - mse: 609.0403\n",
            "11/11 [==============================] - 0s 2ms/step - loss: 9.1677 - mse: 567.0014\n",
            "3/3 [==============================] - 0s 3ms/step - loss: 9.6119 - mse: 641.6409\n"
          ]
        }
      ]
    },
    {
      "cell_type": "code",
      "source": [
        "sum(scores) / len(scores)"
      ],
      "metadata": {
        "colab": {
          "base_uri": "https://localhost:8080/"
        },
        "id": "vEWWC-ZB72TX",
        "outputId": "bbadd4a0-3ac5-4fcb-81f1-583e56a806d9"
      },
      "execution_count": 64,
      "outputs": [
        {
          "output_type": "execute_result",
          "data": {
            "text/plain": [
              "581.781494140625"
            ]
          },
          "metadata": {},
          "execution_count": 64
        }
      ]
    }
  ]
}