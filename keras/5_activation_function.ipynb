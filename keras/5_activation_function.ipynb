{
  "nbformat": 4,
  "nbformat_minor": 0,
  "metadata": {
    "colab": {
      "provenance": []
    },
    "kernelspec": {
      "name": "python3",
      "display_name": "Python 3"
    },
    "language_info": {
      "name": "python"
    }
  },
  "cells": [
    {
      "cell_type": "markdown",
      "source": [
        "# 학습목표\n",
        "1. 시그모이드 함수를 구현합니다\n",
        "2. 소프트맥스 함수를 구현합니다 \n",
        "3. cross_entropy 함수를 구현합니다 "
      ],
      "metadata": {
        "id": "7YIUQKB9FWEQ"
      }
    },
    {
      "cell_type": "code",
      "execution_count": 1,
      "metadata": {
        "id": "WKxzwN8NFF3e"
      },
      "outputs": [],
      "source": [
        "import numpy as np\n",
        "import tensorflow as tf"
      ]
    },
    {
      "cell_type": "markdown",
      "source": [
        "시그모이드"
      ],
      "metadata": {
        "id": "CtXFOsTaFhFq"
      }
    },
    {
      "cell_type": "code",
      "source": [
        "class Sigmoid:\n",
        "    def __init__(self):\n",
        "        self.out = None\n",
        "\n",
        "    def forward(self, x):\n",
        "        out = 1 / (1 + np.exp(-x))\n",
        "        self.out = out\n",
        "        return out\n",
        "\n",
        "    def backward(self, dout):\n",
        "        # dout : 앞선 레이어에서 chain rule에 의해 넘어온 값\n",
        "        dx = dout * (1 - self.out) * self.out"
      ],
      "metadata": {
        "id": "7StbWCeCFgjA"
      },
      "execution_count": 2,
      "outputs": []
    },
    {
      "cell_type": "code",
      "source": [
        "sigmoid = Sigmoid()\n",
        "sigmoid.forward(0.5)"
      ],
      "metadata": {
        "colab": {
          "base_uri": "https://localhost:8080/"
        },
        "id": "f2j3yz-VF62Y",
        "outputId": "9cfab08d-c71b-4f0c-93e3-5fb623f5cd83"
      },
      "execution_count": 10,
      "outputs": [
        {
          "output_type": "execute_result",
          "data": {
            "text/plain": [
              "0.6224593312018546"
            ]
          },
          "metadata": {},
          "execution_count": 10
        }
      ]
    },
    {
      "cell_type": "markdown",
      "source": [
        "소프트맥스"
      ],
      "metadata": {
        "id": "qMAcM7NsKdFB"
      }
    },
    {
      "cell_type": "code",
      "source": [
        "def Softmax(x):\n",
        "    e_x = np.exp(x - np.max(x))\n",
        "    return e_x / e_x.sum()"
      ],
      "metadata": {
        "id": "kqUiUFiNKewX"
      },
      "execution_count": 13,
      "outputs": []
    },
    {
      "cell_type": "code",
      "source": [
        "Softmax(np.array([19, 15.5, 10.4, 3.33, 20.8]))"
      ],
      "metadata": {
        "colab": {
          "base_uri": "https://localhost:8080/"
        },
        "id": "erpxFYqhKgYi",
        "outputId": "69fcbc32-248f-47a0-df8a-d2192640c500"
      },
      "execution_count": 15,
      "outputs": [
        {
          "output_type": "execute_result",
          "data": {
            "text/plain": [
              "array([1.41242357e-01, 4.26514961e-03, 2.60035363e-05, 2.21090675e-08,\n",
              "       8.54466468e-01])"
            ]
          },
          "metadata": {},
          "execution_count": 15
        }
      ]
    },
    {
      "cell_type": "markdown",
      "source": [
        "크로스엔트로피 "
      ],
      "metadata": {
        "id": "3RT1HFYHKuzj"
      }
    },
    {
      "cell_type": "code",
      "source": [
        "def cross_entropy_loss(y_true, y_pred):\n",
        "    first = y_true * np.log(y_pred + 1e-7)\n",
        "    second = -np.sum(first)\n",
        "    return second"
      ],
      "metadata": {
        "id": "oyreOta1KpIM"
      },
      "execution_count": 16,
      "outputs": []
    },
    {
      "cell_type": "code",
      "source": [
        "y_true = np.array([0, 0, 1, 0, 0, 0])\n",
        "y_pred1 = np.array([0.1, 0.05, 0.55, 0.15, 0.05, 0.1])\n",
        "\n",
        "cross_entropy_loss(y_true, y_pred1)"
      ],
      "metadata": {
        "colab": {
          "base_uri": "https://localhost:8080/"
        },
        "id": "Auszy0lRKzSZ",
        "outputId": "62ccc295-6358-4ed4-8c45-cfed9b7f5ebc"
      },
      "execution_count": 17,
      "outputs": [
        {
          "output_type": "execute_result",
          "data": {
            "text/plain": [
              "0.5978368189374552"
            ]
          },
          "metadata": {},
          "execution_count": 17
        }
      ]
    },
    {
      "cell_type": "code",
      "source": [],
      "metadata": {
        "id": "jiE9w1bPK5zu"
      },
      "execution_count": null,
      "outputs": []
    }
  ]
}