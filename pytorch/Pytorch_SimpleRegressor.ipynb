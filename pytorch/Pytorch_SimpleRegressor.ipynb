{
 "cells": [
  {
   "cell_type": "markdown",
   "id": "22b89784",
   "metadata": {},
   "source": [
    "# 파이토치로 단순 선형회귀모델 구현하기"
   ]
  },
  {
   "cell_type": "code",
   "execution_count": 15,
   "id": "8ae9779f",
   "metadata": {},
   "outputs": [],
   "source": [
    "import torch\n",
    "import torch.nn as nn\n",
    "import torch.nn.functional as F\n",
    "import torch.optim"
   ]
  },
  {
   "cell_type": "code",
   "execution_count": 30,
   "id": "8037d07a",
   "metadata": {},
   "outputs": [
    {
     "data": {
      "text/plain": [
       "<torch._C.Generator at 0x2717cc17af0>"
      ]
     },
     "execution_count": 30,
     "metadata": {},
     "output_type": "execute_result"
    }
   ],
   "source": [
    "# 시드 고정\n",
    "torch.manual_seed(1)"
   ]
  },
  {
   "cell_type": "code",
   "execution_count": 12,
   "id": "00a18f00",
   "metadata": {},
   "outputs": [],
   "source": [
    "# 데이터 생성\n",
    "X_train = torch.FloatTensor([[1], [2], [3]])\n",
    "y_train = torch.FloatTensor([[2], [4], [6]])"
   ]
  },
  {
   "cell_type": "code",
   "execution_count": 13,
   "id": "168fdd2b",
   "metadata": {},
   "outputs": [
    {
     "data": {
      "text/plain": [
       "(tensor([[1.],\n",
       "         [2.],\n",
       "         [3.]]),\n",
       " tensor([[2.],\n",
       "         [4.],\n",
       "         [6.]]))"
      ]
     },
     "execution_count": 13,
     "metadata": {},
     "output_type": "execute_result"
    }
   ],
   "source": [
    "X_train, y_train"
   ]
  },
  {
   "cell_type": "code",
   "execution_count": 21,
   "id": "fe6c143c",
   "metadata": {},
   "outputs": [],
   "source": [
    "# 클래스 선언\n",
    "class SimpleLinearRegression(nn.Module):\n",
    "    def __init__(self, input_dim):\n",
    "        super().__init__()\n",
    "        self.linear = nn.Linear(input_dim, 1)\n",
    "        \n",
    "    def forward(self, x):\n",
    "        return self.linear(x)"
   ]
  },
  {
   "cell_type": "code",
   "execution_count": 22,
   "id": "2ce1d8ce",
   "metadata": {},
   "outputs": [],
   "source": [
    "input_dim = X_train.shape[1]\n",
    "model = SimpleLinearRegression(input_dim)\n",
    "\n",
    "# 옵티마이저 설정\n",
    "optimizer = torch.optim.SGD(model.parameters(), lr=0.01) "
   ]
  },
  {
   "cell_type": "code",
   "execution_count": 32,
   "id": "b7324a47",
   "metadata": {},
   "outputs": [
    {
     "name": "stdout",
     "output_type": "stream",
     "text": [
      "Epoch    0/2000 Cost: 0.000000\n",
      "Epoch  100/2000 Cost: 0.000000\n",
      "Epoch  200/2000 Cost: 0.000000\n",
      "Epoch  300/2000 Cost: 0.000000\n",
      "Epoch  400/2000 Cost: 0.000000\n",
      "Epoch  500/2000 Cost: 0.000000\n",
      "Epoch  600/2000 Cost: 0.000000\n",
      "Epoch  700/2000 Cost: 0.000000\n",
      "Epoch  800/2000 Cost: 0.000000\n",
      "Epoch  900/2000 Cost: 0.000000\n",
      "Epoch 1000/2000 Cost: 0.000000\n",
      "Epoch 1100/2000 Cost: 0.000000\n",
      "Epoch 1200/2000 Cost: 0.000000\n",
      "Epoch 1300/2000 Cost: 0.000000\n",
      "Epoch 1400/2000 Cost: 0.000000\n",
      "Epoch 1500/2000 Cost: 0.000000\n",
      "Epoch 1600/2000 Cost: 0.000000\n",
      "Epoch 1700/2000 Cost: 0.000000\n",
      "Epoch 1800/2000 Cost: 0.000000\n",
      "Epoch 1900/2000 Cost: 0.000000\n",
      "Epoch 2000/2000 Cost: 0.000000\n"
     ]
    }
   ],
   "source": [
    "nb_epochs = 2000\n",
    "for epoch in range(nb_epochs+1):\n",
    "\n",
    "    # H(x) 계산\n",
    "    prediction = model(X_train)\n",
    "\n",
    "    # cost 계산\n",
    "    cost = F.mse_loss(prediction, y_train) # <== 파이토치에서 제공하는 평균 제곱 오차 함수\n",
    "\n",
    "    # cost로 H(x) 개선하는 부분\n",
    "    # gradient를 0으로 초기화\n",
    "    optimizer.zero_grad()\n",
    "    # 비용 함수를 미분하여 gradient 계산\n",
    "    cost.backward() # backward 연산\n",
    "    # W와 b를 업데이트\n",
    "    optimizer.step()\n",
    "\n",
    "    if epoch % 100 == 0:\n",
    "    # 100번마다 로그 출력\n",
    "      print(f'Epoch {epoch:4d}/{nb_epochs} Cost: {cost.item():.6f}')"
   ]
  },
  {
   "cell_type": "code",
   "execution_count": 33,
   "id": "ebbae18f",
   "metadata": {},
   "outputs": [
    {
     "data": {
      "text/plain": [
       "tensor([199.9996], grad_fn=<AddBackward0>)"
      ]
     },
     "execution_count": 33,
     "metadata": {},
     "output_type": "execute_result"
    }
   ],
   "source": [
    "# 예측 결과\n",
    "model(torch.Tensor([100]))"
   ]
  },
  {
   "cell_type": "markdown",
   "id": "d72fd07e",
   "metadata": {},
   "source": [
    "# 텐서플로우로 단순선형회귀모델 구현"
   ]
  },
  {
   "cell_type": "code",
   "execution_count": 62,
   "id": "89b3fbd7",
   "metadata": {},
   "outputs": [],
   "source": [
    "import tensorflow as tf\n",
    "import numpy as np"
   ]
  },
  {
   "cell_type": "code",
   "execution_count": 81,
   "id": "79409863",
   "metadata": {},
   "outputs": [],
   "source": [
    "# 시드 고정\n",
    "np.random.seed(42)\n",
    "tf.random.set_seed(42)"
   ]
  },
  {
   "cell_type": "code",
   "execution_count": 82,
   "id": "8108fbcf",
   "metadata": {},
   "outputs": [],
   "source": [
    "# 데이터 생성\n",
    "X_train = np.array([[1], [2], [3]])\n",
    "y_train = np.array([[2], [4], [6]])"
   ]
  },
  {
   "cell_type": "code",
   "execution_count": 104,
   "id": "5311c38e",
   "metadata": {},
   "outputs": [],
   "source": [
    "# 모델 선언\n",
    "model = tf.keras.models.Sequential([\n",
    "    tf.keras.layers.Input(shape=(1,)),\n",
    "    tf.keras.layers.Dense(3, activation='sigmoid'),\n",
    "    tf.keras.layers.Dense(1)\n",
    "])"
   ]
  },
  {
   "cell_type": "code",
   "execution_count": 105,
   "id": "123a8a29",
   "metadata": {},
   "outputs": [],
   "source": [
    "# 모델 컴파일\n",
    "model.compile(optimizer='adam',\n",
    "              loss='mse',\n",
    "              metrics=['accuracy'])"
   ]
  },
  {
   "cell_type": "code",
   "execution_count": 106,
   "id": "b956164f",
   "metadata": {},
   "outputs": [
    {
     "name": "stdout",
     "output_type": "stream",
     "text": [
      "Epoch 1/10\n",
      "1/1 [==============================] - 0s 323ms/step - loss: 20.1031 - accuracy: 0.0000e+00\n",
      "Epoch 2/10\n",
      "1/1 [==============================] - 0s 4ms/step - loss: 20.0878 - accuracy: 0.0000e+00\n",
      "Epoch 3/10\n",
      "1/1 [==============================] - 0s 4ms/step - loss: 20.0725 - accuracy: 0.0000e+00\n",
      "Epoch 4/10\n",
      "1/1 [==============================] - 0s 3ms/step - loss: 20.0572 - accuracy: 0.0000e+00\n",
      "Epoch 5/10\n",
      "1/1 [==============================] - 0s 4ms/step - loss: 20.0420 - accuracy: 0.0000e+00\n",
      "Epoch 6/10\n",
      "1/1 [==============================] - 0s 4ms/step - loss: 20.0268 - accuracy: 0.0000e+00\n",
      "Epoch 7/10\n",
      "1/1 [==============================] - 0s 4ms/step - loss: 20.0116 - accuracy: 0.0000e+00\n",
      "Epoch 8/10\n",
      "1/1 [==============================] - 0s 4ms/step - loss: 19.9964 - accuracy: 0.0000e+00\n",
      "Epoch 9/10\n",
      "1/1 [==============================] - 0s 5ms/step - loss: 19.9812 - accuracy: 0.0000e+00\n",
      "Epoch 10/10\n",
      "1/1 [==============================] - 0s 3ms/step - loss: 19.9661 - accuracy: 0.0000e+00\n"
     ]
    },
    {
     "data": {
      "text/plain": [
       "<keras.callbacks.History at 0x2713b852b50>"
      ]
     },
     "execution_count": 106,
     "metadata": {},
     "output_type": "execute_result"
    }
   ],
   "source": [
    "# 학습\n",
    "model.fit(X_train, y_train, epochs=10)"
   ]
  },
  {
   "cell_type": "code",
   "execution_count": 107,
   "id": "44cf992e",
   "metadata": {},
   "outputs": [
    {
     "name": "stdout",
     "output_type": "stream",
     "text": [
      "1/1 [==============================] - 0s 35ms/step\n"
     ]
    },
    {
     "data": {
      "text/plain": [
       "array([[-0.16241409]], dtype=float32)"
      ]
     },
     "execution_count": 107,
     "metadata": {},
     "output_type": "execute_result"
    }
   ],
   "source": [
    "model.predict(np.array([2]))"
   ]
  },
  {
   "cell_type": "code",
   "execution_count": null,
   "id": "afb4d5cf",
   "metadata": {},
   "outputs": [],
   "source": []
  }
 ],
 "metadata": {
  "kernelspec": {
   "display_name": "Python [conda env:project]",
   "language": "python",
   "name": "conda-env-project-py"
  },
  "language_info": {
   "codemirror_mode": {
    "name": "ipython",
    "version": 3
   },
   "file_extension": ".py",
   "mimetype": "text/x-python",
   "name": "python",
   "nbconvert_exporter": "python",
   "pygments_lexer": "ipython3",
   "version": "3.8.15"
  }
 },
 "nbformat": 4,
 "nbformat_minor": 5
}
